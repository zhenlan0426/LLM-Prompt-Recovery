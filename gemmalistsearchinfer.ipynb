{
 "cells": [
  {
   "cell_type": "code",
   "execution_count": 1,
   "id": "28869bee",
   "metadata": {
    "execution": {
     "iopub.execute_input": "2024-03-02T17:35:32.349298Z",
     "iopub.status.busy": "2024-03-02T17:35:32.348943Z",
     "iopub.status.idle": "2024-03-02T17:36:02.831815Z",
     "shell.execute_reply": "2024-03-02T17:36:02.830732Z"
    },
    "papermill": {
     "duration": 30.490806,
     "end_time": "2024-03-02T17:36:02.834366",
     "exception": false,
     "start_time": "2024-03-02T17:35:32.343560",
     "status": "completed"
    },
    "tags": []
   },
   "outputs": [
    {
     "name": "stdout",
     "output_type": "stream",
     "text": [
      "Looking in links: /kaggle/input/transformerslib\r\n",
      "Requirement already satisfied: transformers in /opt/conda/lib/python3.10/site-packages (4.38.1)\r\n",
      "Requirement already satisfied: filelock in /opt/conda/lib/python3.10/site-packages (from transformers) (3.13.1)\r\n",
      "Requirement already satisfied: huggingface-hub<1.0,>=0.19.3 in /opt/conda/lib/python3.10/site-packages (from transformers) (0.20.3)\r\n",
      "Requirement already satisfied: numpy>=1.17 in /opt/conda/lib/python3.10/site-packages (from transformers) (1.26.4)\r\n",
      "Requirement already satisfied: packaging>=20.0 in /opt/conda/lib/python3.10/site-packages (from transformers) (21.3)\r\n",
      "Requirement already satisfied: pyyaml>=5.1 in /opt/conda/lib/python3.10/site-packages (from transformers) (6.0.1)\r\n",
      "Requirement already satisfied: regex!=2019.12.17 in /opt/conda/lib/python3.10/site-packages (from transformers) (2023.12.25)\r\n",
      "Requirement already satisfied: requests in /opt/conda/lib/python3.10/site-packages (from transformers) (2.31.0)\r\n",
      "Requirement already satisfied: tokenizers<0.19,>=0.14 in /opt/conda/lib/python3.10/site-packages (from transformers) (0.15.2)\r\n",
      "Requirement already satisfied: safetensors>=0.4.1 in /opt/conda/lib/python3.10/site-packages (from transformers) (0.4.2)\r\n",
      "Requirement already satisfied: tqdm>=4.27 in /opt/conda/lib/python3.10/site-packages (from transformers) (4.66.1)\r\n",
      "Requirement already satisfied: fsspec>=2023.5.0 in /opt/conda/lib/python3.10/site-packages (from huggingface-hub<1.0,>=0.19.3->transformers) (2024.2.0)\r\n",
      "Requirement already satisfied: typing-extensions>=3.7.4.3 in /opt/conda/lib/python3.10/site-packages (from huggingface-hub<1.0,>=0.19.3->transformers) (4.9.0)\r\n",
      "Requirement already satisfied: pyparsing!=3.0.5,>=2.0.2 in /opt/conda/lib/python3.10/site-packages (from packaging>=20.0->transformers) (3.1.1)\r\n",
      "Requirement already satisfied: charset-normalizer<4,>=2 in /opt/conda/lib/python3.10/site-packages (from requests->transformers) (3.3.2)\r\n",
      "Requirement already satisfied: idna<4,>=2.5 in /opt/conda/lib/python3.10/site-packages (from requests->transformers) (3.6)\r\n",
      "Requirement already satisfied: urllib3<3,>=1.21.1 in /opt/conda/lib/python3.10/site-packages (from requests->transformers) (1.26.18)\r\n",
      "Requirement already satisfied: certifi>=2017.4.17 in /opt/conda/lib/python3.10/site-packages (from requests->transformers) (2024.2.2)\r\n",
      "Looking in links: /kaggle/input/transformerslib\r\n",
      "Processing /kaggle/input/transformerslib/bitsandbytes-0.42.0-py3-none-any.whl\r\n",
      "Requirement already satisfied: scipy in /opt/conda/lib/python3.10/site-packages (from bitsandbytes) (1.11.4)\r\n",
      "Requirement already satisfied: numpy<1.28.0,>=1.21.6 in /opt/conda/lib/python3.10/site-packages (from scipy->bitsandbytes) (1.26.4)\r\n",
      "Installing collected packages: bitsandbytes\r\n",
      "Successfully installed bitsandbytes-0.42.0\r\n"
     ]
    }
   ],
   "source": [
    "# %%capture\n",
    "# # If you want to save 4-bit models, make sure to have `bitsandbytes>=0.41.3` installed\n",
    "# !pip install --no-index /kaggle/input/making-wheels-of-necessary-packages-for-hf-llms/bitsandbytes-0.42.0-py3-none-any.whl --find-links=/kaggle/input/making-wheels-of-necessary-packages-for-hf-llms\n",
    "# !pip install --no-index /kaggle/input/making-wheels-of-necessary-packages-for-hf-llms/accelerate-0.27.2-py3-none-any.whl --find-links=/kaggle/input/making-wheels-of-necessary-packages-for-hf-llms\n",
    "# !pip install --no-index /kaggle/input/making-wheels-of-necessary-packages-for-hf-llms/transformers-4.38.1-py3-none-any.whl --find-links=/kaggle/input/making-wheels-of-necessary-packages-for-hf-llms\n",
    "# !pip install --no-index /kaggle/input/making-wheels-of-necessary-packages-for-hf-llms/optimum-1.17.1-py3-none-any.whl --find-links=/kaggle/input/making-wheels-of-necessary-packages-for-hf-llms\n",
    "!pip install transformers -f /kaggle/input/transformerslib --no-index\n",
    "!pip install bitsandbytes -f /kaggle/input/transformerslib --no-index"
   ]
  },
  {
   "cell_type": "code",
   "execution_count": 2,
   "id": "667214bb",
   "metadata": {
    "execution": {
     "iopub.execute_input": "2024-03-02T17:36:02.845410Z",
     "iopub.status.busy": "2024-03-02T17:36:02.844671Z",
     "iopub.status.idle": "2024-03-02T17:36:02.849059Z",
     "shell.execute_reply": "2024-03-02T17:36:02.848287Z"
    },
    "papermill": {
     "duration": 0.011863,
     "end_time": "2024-03-02T17:36:02.851028",
     "exception": false,
     "start_time": "2024-03-02T17:36:02.839165",
     "status": "completed"
    },
    "tags": []
   },
   "outputs": [],
   "source": [
    "add_special_tokens = False\n",
    "max_length = 1024\n",
    "debug = False"
   ]
  },
  {
   "cell_type": "code",
   "execution_count": 3,
   "id": "fa2eec54",
   "metadata": {
    "execution": {
     "iopub.execute_input": "2024-03-02T17:36:02.861185Z",
     "iopub.status.busy": "2024-03-02T17:36:02.860916Z",
     "iopub.status.idle": "2024-03-02T17:38:53.536476Z",
     "shell.execute_reply": "2024-03-02T17:38:53.535704Z"
    },
    "papermill": {
     "duration": 170.682985,
     "end_time": "2024-03-02T17:38:53.538723",
     "exception": false,
     "start_time": "2024-03-02T17:36:02.855738",
     "status": "completed"
    },
    "tags": []
   },
   "outputs": [
    {
     "data": {
      "application/vnd.jupyter.widget-view+json": {
       "model_id": "03c0b2c1a0524a6982764a108b203d81",
       "version_major": 2,
       "version_minor": 0
      },
      "text/plain": [
       "Loading checkpoint shards:   0%|          | 0/4 [00:00<?, ?it/s]"
      ]
     },
     "metadata": {},
     "output_type": "display_data"
    }
   ],
   "source": [
    "import pandas as pd\n",
    "import numpy as np\n",
    "import torch\n",
    "import torch.nn as nn\n",
    "from transformers import AutoModelForCausalLM, AutoTokenizer, BitsAndBytesConfig, AutoConfig\n",
    "\n",
    "MODEL_PATH = \"/kaggle/input/gemma7bit\"\n",
    "# Found a good blog to catch me up fast!\n",
    "# https://huggingface.co/blog/4bit-transformers-bitsandbytes\n",
    "# https://huggingface.co/docs/transformers/v4.38.1/en/quantization#compute-data-type\n",
    "quantization_config = BitsAndBytesConfig(\n",
    "    load_in_4bit = True,\n",
    "    bnb_4bit_quant_type=\"nf4\",\n",
    "    bnb_4bit_compute_dtype=torch.bfloat16,\n",
    "    bnb_4bit_use_double_quant=True,\n",
    ")\n",
    "\n",
    "tokenizer = AutoTokenizer.from_pretrained(MODEL_PATH)\n",
    "model = AutoModelForCausalLM.from_pretrained(\n",
    "    MODEL_PATH,\n",
    "    device_map = \"auto\",\n",
    "    trust_remote_code = True,\n",
    "#     torch_dtype=torch.float16,\n",
    "    quantization_config=quantization_config,\n",
    ")\n",
    "\n",
    "# model = model.to_bettertransformer()"
   ]
  },
  {
   "cell_type": "code",
   "execution_count": 4,
   "id": "e58472cd",
   "metadata": {
    "execution": {
     "iopub.execute_input": "2024-03-02T17:38:53.549489Z",
     "iopub.status.busy": "2024-03-02T17:38:53.549035Z",
     "iopub.status.idle": "2024-03-02T17:38:53.784691Z",
     "shell.execute_reply": "2024-03-02T17:38:53.783935Z"
    },
    "papermill": {
     "duration": 0.243286,
     "end_time": "2024-03-02T17:38:53.786839",
     "exception": false,
     "start_time": "2024-03-02T17:38:53.543553",
     "status": "completed"
    },
    "tags": []
   },
   "outputs": [],
   "source": [
    "train = pd.read_csv('/kaggle/input/gemma-rewrite-nbroad/nbroad-v1.csv')\n",
    "test = pd.read_csv('/kaggle/input/llm-prompt-recovery/test.csv')\n",
    "sample_sub = pd.read_csv('/kaggle/input/llm-prompt-recovery/sample_submission.csv')\n",
    "\n",
    "prompts_txt = list(train.rewrite_prompt.unique())\n",
    "prompts = tokenizer.batch_encode_plus(prompts_txt,add_special_tokens=add_special_tokens,return_attention_mask=False)['input_ids']\n",
    "n_prompt = len(prompts)\n",
    "if debug:\n",
    "    original_texts = train.original_text.tolist()[:5]\n",
    "    rewritten_text = train.rewritten_text.tolist()[:5]\n",
    "else:\n",
    "    original_texts = test.original_text.tolist()\n",
    "    rewritten_text = test.rewritten_text.tolist()    \n",
    "original_texts = tokenizer.batch_encode_plus(original_texts,add_special_tokens=add_special_tokens,\\\n",
    "                                             return_attention_mask=False,truncation=True, max_length=max_length)['input_ids']\n",
    "rewritten_texts = tokenizer.batch_encode_plus(rewritten_text,add_special_tokens=add_special_tokens,\\\n",
    "                                              return_attention_mask=False,truncation=True, max_length=max_length)['input_ids']"
   ]
  },
  {
   "cell_type": "code",
   "execution_count": 5,
   "id": "9864e2ed",
   "metadata": {
    "execution": {
     "iopub.execute_input": "2024-03-02T17:38:53.797296Z",
     "iopub.status.busy": "2024-03-02T17:38:53.796998Z",
     "iopub.status.idle": "2024-03-02T17:38:53.804555Z",
     "shell.execute_reply": "2024-03-02T17:38:53.803718Z"
    },
    "papermill": {
     "duration": 0.014887,
     "end_time": "2024-03-02T17:38:53.806471",
     "exception": false,
     "start_time": "2024-03-02T17:38:53.791584",
     "status": "completed"
    },
    "tags": []
   },
   "outputs": [],
   "source": [
    "def combine_tokens(org, prompt, rewrt, tokenizer):\n",
    "    # inputs are list of tokens\n",
    "    a = tokenizer.encode(\"Original Essay:\", add_special_tokens=False)\n",
    "    b = tokenizer.encode(\"Prompt:\",add_special_tokens=False)\n",
    "    c = tokenizer.encode(\"Rewritten Essay:\",add_special_tokens=False)\n",
    "    return a + org + b + prompt + c + rewrt\n",
    "\n",
    "def create_batch_txt(original_texts, rewritten_texts, prompts):\n",
    "    # all inputs should be list to token_ids\n",
    "    out = []\n",
    "    rewritten_text_len = []\n",
    "    for org,rewrt in zip(original_texts,rewritten_texts):\n",
    "        n = len(rewrt)\n",
    "        for prompt in prompts:\n",
    "            out.append(torch.tensor(combine_tokens(org, prompt, rewrt,tokenizer),dtype=torch.long))\n",
    "            tot_len = out[-1].shape[0]\n",
    "            rewritten_text_len.append((tot_len-n,tot_len)) # start and end of rewritten_texts\n",
    "    return out,rewritten_text_len\n",
    "\n",
    "# def gen_batch(token_ids, rewritten_text_len, batch_size):\n",
    "#     n = len(token_ids)\n",
    "#     for i in range(min(n//batch_size+1,n)):\n",
    "#         tokenList,rewt_lenList = token_ids[i*batch_size:i*batch_size+batch_size],rewritten_text_len[i*batch_size:i*batch_size+batch_size]\n",
    "#         inputs = torch.nn.utils.rnn.pad_sequence(tokenList, batch_first=True, padding_value=tokenizer.pad_token_id).to('cuda')\n",
    "#         yield inputs,rewt_lenList"
   ]
  },
  {
   "cell_type": "code",
   "execution_count": 6,
   "id": "2a4c0a9e",
   "metadata": {
    "execution": {
     "iopub.execute_input": "2024-03-02T17:38:53.816520Z",
     "iopub.status.busy": "2024-03-02T17:38:53.816247Z",
     "iopub.status.idle": "2024-03-02T17:38:53.841640Z",
     "shell.execute_reply": "2024-03-02T17:38:53.840835Z"
    },
    "papermill": {
     "duration": 0.032798,
     "end_time": "2024-03-02T17:38:53.843806",
     "exception": false,
     "start_time": "2024-03-02T17:38:53.811008",
     "status": "completed"
    },
    "tags": []
   },
   "outputs": [],
   "source": [
    "token_ids, rewritten_text_len = create_batch_txt(original_texts, rewritten_texts, prompts)"
   ]
  },
  {
   "cell_type": "code",
   "execution_count": 7,
   "id": "767d3e25",
   "metadata": {
    "execution": {
     "iopub.execute_input": "2024-03-02T17:38:53.854037Z",
     "iopub.status.busy": "2024-03-02T17:38:53.853738Z",
     "iopub.status.idle": "2024-03-02T17:41:03.189427Z",
     "shell.execute_reply": "2024-03-02T17:41:03.188289Z"
    },
    "papermill": {
     "duration": 129.343389,
     "end_time": "2024-03-02T17:41:03.191877",
     "exception": false,
     "start_time": "2024-03-02T17:38:53.848488",
     "status": "completed"
    },
    "tags": []
   },
   "outputs": [
    {
     "name": "stderr",
     "output_type": "stream",
     "text": [
      "/tmp/ipykernel_26/3529394721.py:5: UserWarning: To copy construct from a tensor, it is recommended to use sourceTensor.clone().detach() or sourceTensor.clone().detach().requires_grad_(True), rather than torch.tensor(sourceTensor).\n",
      "  inputs = torch.tensor(inputs,dtype=torch.long)[None].to('cuda')\n",
      "2024-03-02 17:38:57.310833: E external/local_xla/xla/stream_executor/cuda/cuda_dnn.cc:9261] Unable to register cuDNN factory: Attempting to register factory for plugin cuDNN when one has already been registered\n",
      "2024-03-02 17:38:57.310933: E external/local_xla/xla/stream_executor/cuda/cuda_fft.cc:607] Unable to register cuFFT factory: Attempting to register factory for plugin cuFFT when one has already been registered\n",
      "2024-03-02 17:38:57.458190: E external/local_xla/xla/stream_executor/cuda/cuda_blas.cc:1515] Unable to register cuBLAS factory: Attempting to register factory for plugin cuBLAS when one has already been registered\n",
      "/tmp/ipykernel_26/3529394721.py:5: UserWarning: To copy construct from a tensor, it is recommended to use sourceTensor.clone().detach() or sourceTensor.clone().detach().requires_grad_(True), rather than torch.tensor(sourceTensor).\n",
      "  inputs = torch.tensor(inputs,dtype=torch.long)[None].to('cuda')\n"
     ]
    }
   ],
   "source": [
    "loss = nn.CrossEntropyLoss()\n",
    "CE_out = []\n",
    "with torch.no_grad():\n",
    "    for inputs,rewt_len in zip(token_ids, rewritten_text_len):\n",
    "        inputs = torch.tensor(inputs,dtype=torch.long)[None].to('cuda')\n",
    "        outs = model(inputs,output_attentions=False,output_hidden_states=False,use_cache=False).logits\n",
    "        i,o,(s,e) = inputs[0],outs[0],rewt_len\n",
    "        # rewt_len is start and end of rewritten_texts\n",
    "        # shift by one as k-th output logits has access to k-th input\n",
    "        CE_out.append(loss(o[s:e-1], i[s+1:e]).item())"
   ]
  },
  {
   "cell_type": "code",
   "execution_count": 8,
   "id": "0d1d37d2",
   "metadata": {
    "execution": {
     "iopub.execute_input": "2024-03-02T17:41:03.203660Z",
     "iopub.status.busy": "2024-03-02T17:41:03.203027Z",
     "iopub.status.idle": "2024-03-02T17:41:03.208759Z",
     "shell.execute_reply": "2024-03-02T17:41:03.207945Z"
    },
    "papermill": {
     "duration": 0.013582,
     "end_time": "2024-03-02T17:41:03.210715",
     "exception": false,
     "start_time": "2024-03-02T17:41:03.197133",
     "status": "completed"
    },
    "tags": []
   },
   "outputs": [],
   "source": [
    "CE_out = np.array(CE_out).reshape(test.shape[0],n_prompt)\n",
    "prompt_idx = CE_out.argmin(-1)"
   ]
  },
  {
   "cell_type": "code",
   "execution_count": 9,
   "id": "014c1f47",
   "metadata": {
    "execution": {
     "iopub.execute_input": "2024-03-02T17:41:03.220805Z",
     "iopub.status.busy": "2024-03-02T17:41:03.220560Z",
     "iopub.status.idle": "2024-03-02T17:41:03.229219Z",
     "shell.execute_reply": "2024-03-02T17:41:03.228494Z"
    },
    "papermill": {
     "duration": 0.015825,
     "end_time": "2024-03-02T17:41:03.231073",
     "exception": false,
     "start_time": "2024-03-02T17:41:03.215248",
     "status": "completed"
    },
    "tags": []
   },
   "outputs": [],
   "source": [
    "sample_sub[\"rewrite_prompt\"] = [prompts_txt[idx] for idx in prompt_idx]\n",
    "sample_sub.to_csv(\"submission.csv\", index=False)"
   ]
  },
  {
   "cell_type": "markdown",
   "id": "823ed3e3",
   "metadata": {
    "papermill": {
     "duration": 0.004496,
     "end_time": "2024-03-02T17:41:03.240278",
     "exception": false,
     "start_time": "2024-03-02T17:41:03.235782",
     "status": "completed"
    },
    "tags": []
   },
   "source": []
  }
 ],
 "metadata": {
  "kaggle": {
   "accelerator": "gpu",
   "dataSources": [
    {
     "databundleVersionId": 7806901,
     "sourceId": 67121,
     "sourceType": "competition"
    },
    {
     "datasetId": 4506214,
     "sourceId": 7715833,
     "sourceType": "datasetVersion"
    },
    {
     "datasetId": 4526639,
     "sourceId": 7743982,
     "sourceType": "datasetVersion"
    },
    {
     "datasetId": 4526918,
     "sourceId": 7744338,
     "sourceType": "datasetVersion"
    }
   ],
   "dockerImageVersionId": 30665,
   "isGpuEnabled": true,
   "isInternetEnabled": false,
   "language": "python",
   "sourceType": "notebook"
  },
  "kernelspec": {
   "display_name": "Python 3",
   "language": "python",
   "name": "python3"
  },
  "language_info": {
   "codemirror_mode": {
    "name": "ipython",
    "version": 3
   },
   "file_extension": ".py",
   "mimetype": "text/x-python",
   "name": "python",
   "nbconvert_exporter": "python",
   "pygments_lexer": "ipython3",
   "version": "3.10.13"
  },
  "papermill": {
   "default_parameters": {},
   "duration": 337.294526,
   "end_time": "2024-03-02T17:41:06.911606",
   "environment_variables": {},
   "exception": null,
   "input_path": "__notebook__.ipynb",
   "output_path": "__notebook__.ipynb",
   "parameters": {},
   "start_time": "2024-03-02T17:35:29.617080",
   "version": "2.5.0"
  },
  "widgets": {
   "application/vnd.jupyter.widget-state+json": {
    "state": {
     "000534f678654dd69b274b86bacfaf4e": {
      "model_module": "@jupyter-widgets/controls",
      "model_module_version": "1.5.0",
      "model_name": "DescriptionStyleModel",
      "state": {
       "_model_module": "@jupyter-widgets/controls",
       "_model_module_version": "1.5.0",
       "_model_name": "DescriptionStyleModel",
       "_view_count": null,
       "_view_module": "@jupyter-widgets/base",
       "_view_module_version": "1.2.0",
       "_view_name": "StyleView",
       "description_width": ""
      }
     },
     "03c0b2c1a0524a6982764a108b203d81": {
      "model_module": "@jupyter-widgets/controls",
      "model_module_version": "1.5.0",
      "model_name": "HBoxModel",
      "state": {
       "_dom_classes": [],
       "_model_module": "@jupyter-widgets/controls",
       "_model_module_version": "1.5.0",
       "_model_name": "HBoxModel",
       "_view_count": null,
       "_view_module": "@jupyter-widgets/controls",
       "_view_module_version": "1.5.0",
       "_view_name": "HBoxView",
       "box_style": "",
       "children": [
        "IPY_MODEL_9a2ca80fa5204bd18fcc12ff2b6a538c",
        "IPY_MODEL_8559cf93fd104033b40b3620b4502c78",
        "IPY_MODEL_87d750f1b88445d88170dc9e5e3cfce8"
       ],
       "layout": "IPY_MODEL_150bf0a327b44ef1ab28f82a6dcfd563"
      }
     },
     "150bf0a327b44ef1ab28f82a6dcfd563": {
      "model_module": "@jupyter-widgets/base",
      "model_module_version": "1.2.0",
      "model_name": "LayoutModel",
      "state": {
       "_model_module": "@jupyter-widgets/base",
       "_model_module_version": "1.2.0",
       "_model_name": "LayoutModel",
       "_view_count": null,
       "_view_module": "@jupyter-widgets/base",
       "_view_module_version": "1.2.0",
       "_view_name": "LayoutView",
       "align_content": null,
       "align_items": null,
       "align_self": null,
       "border": null,
       "bottom": null,
       "display": null,
       "flex": null,
       "flex_flow": null,
       "grid_area": null,
       "grid_auto_columns": null,
       "grid_auto_flow": null,
       "grid_auto_rows": null,
       "grid_column": null,
       "grid_gap": null,
       "grid_row": null,
       "grid_template_areas": null,
       "grid_template_columns": null,
       "grid_template_rows": null,
       "height": null,
       "justify_content": null,
       "justify_items": null,
       "left": null,
       "margin": null,
       "max_height": null,
       "max_width": null,
       "min_height": null,
       "min_width": null,
       "object_fit": null,
       "object_position": null,
       "order": null,
       "overflow": null,
       "overflow_x": null,
       "overflow_y": null,
       "padding": null,
       "right": null,
       "top": null,
       "visibility": null,
       "width": null
      }
     },
     "2b891a424b3b4837b0bf1a8088977cfe": {
      "model_module": "@jupyter-widgets/controls",
      "model_module_version": "1.5.0",
      "model_name": "DescriptionStyleModel",
      "state": {
       "_model_module": "@jupyter-widgets/controls",
       "_model_module_version": "1.5.0",
       "_model_name": "DescriptionStyleModel",
       "_view_count": null,
       "_view_module": "@jupyter-widgets/base",
       "_view_module_version": "1.2.0",
       "_view_name": "StyleView",
       "description_width": ""
      }
     },
     "4170fc28d03749fe829614b9b3973fc0": {
      "model_module": "@jupyter-widgets/controls",
      "model_module_version": "1.5.0",
      "model_name": "ProgressStyleModel",
      "state": {
       "_model_module": "@jupyter-widgets/controls",
       "_model_module_version": "1.5.0",
       "_model_name": "ProgressStyleModel",
       "_view_count": null,
       "_view_module": "@jupyter-widgets/base",
       "_view_module_version": "1.2.0",
       "_view_name": "StyleView",
       "bar_color": null,
       "description_width": ""
      }
     },
     "4330c59b86fe4638bca74e31087fd057": {
      "model_module": "@jupyter-widgets/base",
      "model_module_version": "1.2.0",
      "model_name": "LayoutModel",
      "state": {
       "_model_module": "@jupyter-widgets/base",
       "_model_module_version": "1.2.0",
       "_model_name": "LayoutModel",
       "_view_count": null,
       "_view_module": "@jupyter-widgets/base",
       "_view_module_version": "1.2.0",
       "_view_name": "LayoutView",
       "align_content": null,
       "align_items": null,
       "align_self": null,
       "border": null,
       "bottom": null,
       "display": null,
       "flex": null,
       "flex_flow": null,
       "grid_area": null,
       "grid_auto_columns": null,
       "grid_auto_flow": null,
       "grid_auto_rows": null,
       "grid_column": null,
       "grid_gap": null,
       "grid_row": null,
       "grid_template_areas": null,
       "grid_template_columns": null,
       "grid_template_rows": null,
       "height": null,
       "justify_content": null,
       "justify_items": null,
       "left": null,
       "margin": null,
       "max_height": null,
       "max_width": null,
       "min_height": null,
       "min_width": null,
       "object_fit": null,
       "object_position": null,
       "order": null,
       "overflow": null,
       "overflow_x": null,
       "overflow_y": null,
       "padding": null,
       "right": null,
       "top": null,
       "visibility": null,
       "width": null
      }
     },
     "7490cf4d4d3440799706da8827b72a61": {
      "model_module": "@jupyter-widgets/base",
      "model_module_version": "1.2.0",
      "model_name": "LayoutModel",
      "state": {
       "_model_module": "@jupyter-widgets/base",
       "_model_module_version": "1.2.0",
       "_model_name": "LayoutModel",
       "_view_count": null,
       "_view_module": "@jupyter-widgets/base",
       "_view_module_version": "1.2.0",
       "_view_name": "LayoutView",
       "align_content": null,
       "align_items": null,
       "align_self": null,
       "border": null,
       "bottom": null,
       "display": null,
       "flex": null,
       "flex_flow": null,
       "grid_area": null,
       "grid_auto_columns": null,
       "grid_auto_flow": null,
       "grid_auto_rows": null,
       "grid_column": null,
       "grid_gap": null,
       "grid_row": null,
       "grid_template_areas": null,
       "grid_template_columns": null,
       "grid_template_rows": null,
       "height": null,
       "justify_content": null,
       "justify_items": null,
       "left": null,
       "margin": null,
       "max_height": null,
       "max_width": null,
       "min_height": null,
       "min_width": null,
       "object_fit": null,
       "object_position": null,
       "order": null,
       "overflow": null,
       "overflow_x": null,
       "overflow_y": null,
       "padding": null,
       "right": null,
       "top": null,
       "visibility": null,
       "width": null
      }
     },
     "8559cf93fd104033b40b3620b4502c78": {
      "model_module": "@jupyter-widgets/controls",
      "model_module_version": "1.5.0",
      "model_name": "FloatProgressModel",
      "state": {
       "_dom_classes": [],
       "_model_module": "@jupyter-widgets/controls",
       "_model_module_version": "1.5.0",
       "_model_name": "FloatProgressModel",
       "_view_count": null,
       "_view_module": "@jupyter-widgets/controls",
       "_view_module_version": "1.5.0",
       "_view_name": "ProgressView",
       "bar_style": "success",
       "description": "",
       "description_tooltip": null,
       "layout": "IPY_MODEL_4330c59b86fe4638bca74e31087fd057",
       "max": 4.0,
       "min": 0.0,
       "orientation": "horizontal",
       "style": "IPY_MODEL_4170fc28d03749fe829614b9b3973fc0",
       "value": 4.0
      }
     },
     "87d750f1b88445d88170dc9e5e3cfce8": {
      "model_module": "@jupyter-widgets/controls",
      "model_module_version": "1.5.0",
      "model_name": "HTMLModel",
      "state": {
       "_dom_classes": [],
       "_model_module": "@jupyter-widgets/controls",
       "_model_module_version": "1.5.0",
       "_model_name": "HTMLModel",
       "_view_count": null,
       "_view_module": "@jupyter-widgets/controls",
       "_view_module_version": "1.5.0",
       "_view_name": "HTMLView",
       "description": "",
       "description_tooltip": null,
       "layout": "IPY_MODEL_dddf8dc7cd224e9190c246f0de998188",
       "placeholder": "​",
       "style": "IPY_MODEL_2b891a424b3b4837b0bf1a8088977cfe",
       "value": " 4/4 [02:40&lt;00:00, 32.16s/it]"
      }
     },
     "9a2ca80fa5204bd18fcc12ff2b6a538c": {
      "model_module": "@jupyter-widgets/controls",
      "model_module_version": "1.5.0",
      "model_name": "HTMLModel",
      "state": {
       "_dom_classes": [],
       "_model_module": "@jupyter-widgets/controls",
       "_model_module_version": "1.5.0",
       "_model_name": "HTMLModel",
       "_view_count": null,
       "_view_module": "@jupyter-widgets/controls",
       "_view_module_version": "1.5.0",
       "_view_name": "HTMLView",
       "description": "",
       "description_tooltip": null,
       "layout": "IPY_MODEL_7490cf4d4d3440799706da8827b72a61",
       "placeholder": "​",
       "style": "IPY_MODEL_000534f678654dd69b274b86bacfaf4e",
       "value": "Loading checkpoint shards: 100%"
      }
     },
     "dddf8dc7cd224e9190c246f0de998188": {
      "model_module": "@jupyter-widgets/base",
      "model_module_version": "1.2.0",
      "model_name": "LayoutModel",
      "state": {
       "_model_module": "@jupyter-widgets/base",
       "_model_module_version": "1.2.0",
       "_model_name": "LayoutModel",
       "_view_count": null,
       "_view_module": "@jupyter-widgets/base",
       "_view_module_version": "1.2.0",
       "_view_name": "LayoutView",
       "align_content": null,
       "align_items": null,
       "align_self": null,
       "border": null,
       "bottom": null,
       "display": null,
       "flex": null,
       "flex_flow": null,
       "grid_area": null,
       "grid_auto_columns": null,
       "grid_auto_flow": null,
       "grid_auto_rows": null,
       "grid_column": null,
       "grid_gap": null,
       "grid_row": null,
       "grid_template_areas": null,
       "grid_template_columns": null,
       "grid_template_rows": null,
       "height": null,
       "justify_content": null,
       "justify_items": null,
       "left": null,
       "margin": null,
       "max_height": null,
       "max_width": null,
       "min_height": null,
       "min_width": null,
       "object_fit": null,
       "object_position": null,
       "order": null,
       "overflow": null,
       "overflow_x": null,
       "overflow_y": null,
       "padding": null,
       "right": null,
       "top": null,
       "visibility": null,
       "width": null
      }
     }
    },
    "version_major": 2,
    "version_minor": 0
   }
  }
 },
 "nbformat": 4,
 "nbformat_minor": 5
}
