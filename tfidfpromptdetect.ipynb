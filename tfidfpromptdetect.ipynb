{
 "cells": [
  {
   "cell_type": "code",
   "execution_count": 1,
   "id": "c86cea06",
   "metadata": {
    "execution": {
     "iopub.execute_input": "2024-02-29T15:32:36.225718Z",
     "iopub.status.busy": "2024-02-29T15:32:36.225449Z",
     "iopub.status.idle": "2024-02-29T15:32:39.879771Z",
     "shell.execute_reply": "2024-02-29T15:32:39.878865Z"
    },
    "papermill": {
     "duration": 3.660276,
     "end_time": "2024-02-29T15:32:39.882241",
     "exception": false,
     "start_time": "2024-02-29T15:32:36.221965",
     "status": "completed"
    },
    "tags": []
   },
   "outputs": [],
   "source": [
    "import pandas as pd\n",
    "import numpy as np\n",
    "from sklearn.feature_extraction.text import TfidfVectorizer\n",
    "\n",
    "threshold = 1e-4\n",
    "train = pd.read_csv('/kaggle/input/gemma-rewrite-nbroad/nbroad-v1.csv')\n",
    "test = pd.read_csv('/kaggle/input/llm-prompt-recovery/test.csv')\n",
    "# test = train.iloc[:5,:]\n",
    "sample_sub = pd.read_csv('/kaggle/input/llm-prompt-recovery/sample_submission.csv')\n",
    "\n",
    "vectorizer = TfidfVectorizer(ngram_range=(1, 1), sublinear_tf=True, max_features=40000)\n",
    "n_test,n_train = test.shape[0],train.shape[0]\n",
    "x_test = test.original_text.tolist() + test.rewritten_text.tolist()\n",
    "x_train = train.original_text.tolist() + train.rewritten_text.tolist()\n",
    "\n",
    "# x_test = vectorizer.fit_transform(x_test).toarray()\n",
    "vectorizer.fit(x_test)\n",
    "x_test = vectorizer.transform(x_test).toarray()\n",
    "x_train = vectorizer.transform(x_train).toarray()\n",
    "x_test = x_test[:n_test] - x_test[n_test:]\n",
    "x_train = x_train[:n_train] - x_train[n_train:]\n",
    "\n",
    "train_idx = x_train.mean(0) >= threshold\n",
    "test_idx = x_test.mean(0) >= threshold\n",
    "idx = np.logical_and(train_idx,test_idx)\n",
    "# dist = np.abs(x_train - x_test[:,None]).sum(-1) # L1 norm of shape (n_test,n_train)\n",
    "dist = np.abs(x_train[:,idx] - x_test[:,idx][:,None]).sum(-1) # L1 norm of shape (n_test,n_train)\n",
    "\n",
    "temp = []\n",
    "for i in range(n_test):\n",
    "    train['dist'] = dist[i]\n",
    "    out = train.groupby(['rewrite_prompt'])['dist'].mean()\n",
    "    pred = out.index[out.argmin()]\n",
    "    temp.append(pred)\n",
    "\n",
    "sample_sub['rewrite_prompt'] = temp\n",
    "sample_sub.to_csv('submission.csv',header=True,index=False)"
   ]
  },
  {
   "cell_type": "code",
   "execution_count": 2,
   "id": "7cd4c7d6",
   "metadata": {
    "execution": {
     "iopub.execute_input": "2024-02-29T15:32:39.887753Z",
     "iopub.status.busy": "2024-02-29T15:32:39.887456Z",
     "iopub.status.idle": "2024-02-29T15:32:39.892713Z",
     "shell.execute_reply": "2024-02-29T15:32:39.891838Z"
    },
    "papermill": {
     "duration": 0.010364,
     "end_time": "2024-02-29T15:32:39.894919",
     "exception": false,
     "start_time": "2024-02-29T15:32:39.884555",
     "status": "completed"
    },
    "tags": []
   },
   "outputs": [],
   "source": [
    "# import pandas as pd\n",
    "# import numpy as np\n",
    "# from sklearn.feature_extraction.text import TfidfVectorizer\n",
    "# try:\n",
    "#     threshold = 0\n",
    "#     train = pd.read_csv('/kaggle/input/gemma-rewrite-nbroad/nbroad-v1.csv')\n",
    "#     test = pd.read_csv('/kaggle/input/llm-prompt-recovery/test.csv')\n",
    "#     # test = train.iloc[:5,:]\n",
    "#     sample_sub = pd.read_csv('/kaggle/input/llm-prompt-recovery/sample_submission.csv')\n",
    "\n",
    "#     vectorizer = TfidfVectorizer(ngram_range=(1, 3), sublinear_tf=True)\n",
    "#     n_test,n_train = test.shape[0],train.shape[0]\n",
    "#     x_test = test.original_text.tolist() + test.rewritten_text.tolist()\n",
    "#     x_train = train.original_text.tolist() + train.rewritten_text.tolist()\n",
    "#     assert len(x_test) == (n_test*2)\n",
    "# #     x_test = vectorizer.fit_transform(x_test).toarray()\n",
    "# #     x_train = vectorizer.transform(x_train).toarray()\n",
    "# #     x_test = x_test[:n_test] - x_test[n_test:]\n",
    "# #     x_train = x_train[:n_train] - x_train[n_train:]\n",
    "#     sample_sub['rewrite_prompt'] = [\"\" for i in range(n_test)]\n",
    "#     sample_sub.to_csv('submission.csv',header=True,index=False)\n",
    "# #     train_idx = x_train.mean(0) >= threshold\n",
    "# #     test_idx = x_test.mean(0) >= threshold\n",
    "# #     idx = np.logical_and(train_idx,test_idx)\n",
    "# #     dist = np.abs(x_train[:,idx] - x_test[:,idx][:,None]).sum(-1) # L1 norm of shape (n_test,n_train)\n",
    "\n",
    "# except Exception as e:\n",
    "# #     temp = []\n",
    "# #     for i in range(n_test):\n",
    "# #         train['dist'] = dist[i]\n",
    "# #         out = train.groupby(['rewrite_prompt'])['dist'].mean()\n",
    "# #         pred = out.index[out.argmin()]\n",
    "# #         temp.append(pred)\n",
    "# #     sample_sub['rewrite_prompt'] = temp\n",
    "#     sample_sub.to_csv('submission.csv',header=True,index=False)"
   ]
  },
  {
   "cell_type": "code",
   "execution_count": null,
   "id": "819f912d",
   "metadata": {
    "papermill": {
     "duration": 0.001754,
     "end_time": "2024-02-29T15:32:39.898599",
     "exception": false,
     "start_time": "2024-02-29T15:32:39.896845",
     "status": "completed"
    },
    "tags": []
   },
   "outputs": [],
   "source": []
  }
 ],
 "metadata": {
  "kaggle": {
   "accelerator": "gpu",
   "dataSources": [
    {
     "databundleVersionId": 7806901,
     "sourceId": 67121,
     "sourceType": "competition"
    },
    {
     "datasetId": 4506214,
     "sourceId": 7715833,
     "sourceType": "datasetVersion"
    }
   ],
   "dockerImageVersionId": 30648,
   "isGpuEnabled": true,
   "isInternetEnabled": false,
   "language": "python",
   "sourceType": "notebook"
  },
  "kernelspec": {
   "display_name": "Python 3",
   "language": "python",
   "name": "python3"
  },
  "language_info": {
   "codemirror_mode": {
    "name": "ipython",
    "version": 3
   },
   "file_extension": ".py",
   "mimetype": "text/x-python",
   "name": "python",
   "nbconvert_exporter": "python",
   "pygments_lexer": "ipython3",
   "version": "3.10.13"
  },
  "papermill": {
   "default_parameters": {},
   "duration": 6.940426,
   "end_time": "2024-02-29T15:32:40.318685",
   "environment_variables": {},
   "exception": null,
   "input_path": "__notebook__.ipynb",
   "output_path": "__notebook__.ipynb",
   "parameters": {},
   "start_time": "2024-02-29T15:32:33.378259",
   "version": "2.5.0"
  }
 },
 "nbformat": 4,
 "nbformat_minor": 5
}
